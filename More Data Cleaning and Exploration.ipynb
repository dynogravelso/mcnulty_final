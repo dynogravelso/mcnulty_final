{
 "cells": [
  {
   "cell_type": "markdown",
   "metadata": {},
   "source": [
    "# I wouldn't run this notebook and just load the models but use this to see how I cleaned my data  Each model notebook loads the complete pickled dataframe anyway"
   ]
  },
  {
   "cell_type": "markdown",
   "metadata": {},
   "source": [
    "after initial bring good features in\n",
    "\n",
    "logistic regression\n",
    "random forest (single decision tree)\n",
    "(no SVM due to large dataset)\n",
    "\n",
    "ROC curves\n",
    "precision, recall\n",
    "f1 score\n",
    "type 1 error and type 2 error \n",
    "\n",
    "cost benefit analysis?  \n",
    "\n",
    "Would be nice to have some landfall yes or no feature  \n",
    "Need to impute damage_property and deaths by category mean  \n",
    "Need to patsy disaster category type"
   ]
  },
  {
   "cell_type": "code",
   "execution_count": 1,
   "metadata": {},
   "outputs": [],
   "source": [
    "from __future__ import print_function, division\n",
    "import requests\n",
    "from bs4 import BeautifulSoup\n",
    "import pickle\n",
    "import pandas as pd\n",
    "import numpy as np\n",
    "import matplotlib.pyplot as plt\n",
    "import seaborn as sns\n",
    "\n",
    "import statsmodels.api as sm\n",
    "import statsmodels.formula.api as smf\n",
    "from sklearn.linear_model import ElasticNetCV\n",
    "from sklearn.pipeline import make_pipeline\n",
    "from sklearn.tree import DecisionTreeClassifier\n",
    "from sklearn.svm import LinearSVC\n",
    "from sklearn.svm import SVC\n",
    "from sklearn.ensemble import RandomForestClassifier\n",
    "from sklearn.linear_model import LogisticRegression\n",
    "from sklearn.model_selection import train_test_split, RandomizedSearchCV, GridSearchCV\n",
    "from datetime import datetime\n",
    "pd.options.display.max_rows = None\n",
    "pd.options.display.max_columns = None"
   ]
  },
  {
   "cell_type": "code",
   "execution_count": 2,
   "metadata": {},
   "outputs": [],
   "source": [
    "import pickle\n",
    "with open(\"wind_df.pkl\", 'rb') as picklefile: \n",
    "    wind_df = pickle.load(picklefile)"
   ]
  },
  {
   "cell_type": "code",
   "execution_count": 3,
   "metadata": {},
   "outputs": [],
   "source": [
    "with open(\"climate_df.pkl\", 'rb') as picklefile: \n",
    "    climate_df = pickle.load(picklefile)"
   ]
  },
  {
   "cell_type": "code",
   "execution_count": 5,
   "metadata": {},
   "outputs": [
    {
     "data": {
      "text/plain": [
       "array(['Thunderstorm Wind', 'THUNDERSTORM WINDS/FLOODING',\n",
       "       'THUNDERSTORM WINDS/FLASH FLOOD', 'THUNDERSTORM WINDS LIGHTNING',\n",
       "       'THUNDERSTORM WIND/ TREES', 'THUNDERSTORM WIND/ TREE',\n",
       "       'THUNDERSTORM WINDS FUNNEL CLOU', 'THUNDERSTORM WINDS/HEAVY RAIN',\n",
       "       'THUNDERSTORM WINDS HEAVY RAIN', 'THUNDERSTORM WINDS/ FLOOD',\n",
       "       'High Wind', 'Strong Wind', 'Tropical Storm',\n",
       "       'Hurricane (Typhoon)', 'Marine High Wind',\n",
       "       'Marine Thunderstorm Wind', 'Heavy Wind', 'Marine Strong Wind',\n",
       "       'Tropical Depression', 'Hurricane', 'Marine Tropical Storm',\n",
       "       'Marine Hurricane/Typhoon', 'Marine Tropical Depression'],\n",
       "      dtype=object)"
      ]
     },
     "execution_count": 5,
     "metadata": {},
     "output_type": "execute_result"
    }
   ],
   "source": [
    "wind_df.EVENT_TYPE.unique()\n",
    "# wind_df.info(verbose = True, null_counts = True)"
   ]
  },
  {
   "cell_type": "code",
   "execution_count": 6,
   "metadata": {},
   "outputs": [
    {
     "data": {
      "text/plain": [
       "array(['Thunderstorm Wind', 'THUNDERSTORM WINDS/FLOODING',\n",
       "       'THUNDERSTORM WINDS/FLASH FLOOD', 'THUNDERSTORM WINDS LIGHTNING',\n",
       "       'THUNDERSTORM WIND/ TREES', 'THUNDERSTORM WIND/ TREE',\n",
       "       'THUNDERSTORM WINDS FUNNEL CLOU', 'THUNDERSTORM WINDS/HEAVY RAIN',\n",
       "       'THUNDERSTORM WINDS HEAVY RAIN', 'THUNDERSTORM WINDS/ FLOOD',\n",
       "       'High Wind', 'Strong Wind', 'Tropical Storm',\n",
       "       'Hurricane (Typhoon)', 'Marine High Wind',\n",
       "       'Marine Thunderstorm Wind', 'Heavy Wind', 'Marine Strong Wind',\n",
       "       'Tropical Depression', 'Hurricane', 'Marine Tropical Storm',\n",
       "       'Marine Hurricane/Typhoon', 'Marine Tropical Depression'],\n",
       "      dtype=object)"
      ]
     },
     "execution_count": 6,
     "metadata": {},
     "output_type": "execute_result"
    }
   ],
   "source": [
    "# data observation hurricane data no wind speed\n",
    "# data observation hurricane(typhoon) data lower wind speed than expected\n",
    "# thunderstorm wind is highest speed for some reason\n",
    "\n",
    "drop_wind_df = wind_df.drop(columns = ['YEAR', 'MONTH_NAME', 'FATALITY_ID', 'FAT_DAY', 'FAT_TIME'])\n",
    "drop_wind_df.EVENT_TYPE.unique()\n",
    "# drop_wind_df.sort_values(by = 'MAGNITUDE', ascending = False).head(10)\n",
    "# drop_wind_df[drop_wind_df.EVENT_TYPE == 'Hurricane'].head(100)"
   ]
  },
  {
   "cell_type": "code",
   "execution_count": 7,
   "metadata": {},
   "outputs": [
    {
     "name": "stdout",
     "output_type": "stream",
     "text": [
      "<class 'pandas.core.frame.DataFrame'>\n",
      "Int64Index: 568137 entries, 1867 to 1782691\n",
      "Data columns (total 15 columns):\n",
      "BEGIN_YEARMONTH      568137 non-null object\n",
      "EVENT_ID             568137 non-null int64\n",
      "STATE                568137 non-null object\n",
      "EVENT_TYPE           568137 non-null object\n",
      "INJURIES_DIRECT      568137 non-null float64\n",
      "INJURIES_INDIRECT    568137 non-null float64\n",
      "DEATHS_DIRECT        568137 non-null float64\n",
      "DEATHS_INDIRECT      568137 non-null float64\n",
      "DAMAGE_PROPERTY      428893 non-null object\n",
      "MAGNITUDE            518682 non-null float64\n",
      "MAGNITUDE_TYPE       370838 non-null object\n",
      "BEGIN_LAT            447389 non-null float64\n",
      "BEGIN_LON            447389 non-null float64\n",
      "END_LAT              356463 non-null float64\n",
      "END_LON              356464 non-null float64\n",
      "dtypes: float64(9), int64(1), object(5)\n",
      "memory usage: 69.4+ MB\n"
     ]
    }
   ],
   "source": [
    "# further minimal manipulations for mvp \n",
    "from copy import deepcopy\n",
    "mvp_wind_df = deepcopy(drop_wind_df)\n",
    "# mvp_wind_df = drop_wind_df[drop_wind_df.MAGNITUDE != 0]\n",
    "mvp_wind_df.loc[:, 'BEGIN_YEARMONTH'] = mvp_wind_df['BEGIN_YEARMONTH'].apply(lambda x: str(int(x)))\n",
    "mvp_wind_df.loc[:, 'BEGIN_YEARMONTH'] = mvp_wind_df['BEGIN_YEARMONTH'].apply(lambda x: datetime.strptime(x,'%Y%m').date())\n",
    "mvp_wind_df.drop(columns = ['FAT_YEARMONTH', 'FATALITY_AGE', 'FATALITY_SEX', 'BEGIN_TIME', 'BEGIN_DAY', 'DAMAGE_CROPS'], inplace = True)\n",
    "mvp_wind_df.info()"
   ]
  },
  {
   "cell_type": "code",
   "execution_count": 8,
   "metadata": {},
   "outputs": [],
   "source": [
    "# attempt to weed out all thunderstorm entries, decided to keep them in due to limited samples otherwise\n",
    "import re\n",
    "# def thunderstorm(string):\n",
    "#     pattern = re.compile(r'[Tt][Hh][Uu][Nn][Dd][Ee][Rr][Ss][Tt][Oo][Rr][Mm]')\n",
    "#     if re.search(pattern, string):\n",
    "#         return True\n",
    "#     return False\n",
    "\n",
    "# thunderstorm('thudersTORM (sdlfkj)')"
   ]
  },
  {
   "cell_type": "code",
   "execution_count": 9,
   "metadata": {},
   "outputs": [
    {
     "data": {
      "text/html": [
       "<div>\n",
       "<style scoped>\n",
       "    .dataframe tbody tr th:only-of-type {\n",
       "        vertical-align: middle;\n",
       "    }\n",
       "\n",
       "    .dataframe tbody tr th {\n",
       "        vertical-align: top;\n",
       "    }\n",
       "\n",
       "    .dataframe thead th {\n",
       "        text-align: right;\n",
       "    }\n",
       "</style>\n",
       "<table border=\"1\" class=\"dataframe\">\n",
       "  <thead>\n",
       "    <tr style=\"text-align: right;\">\n",
       "      <th></th>\n",
       "      <th>BEGIN_YEARMONTH</th>\n",
       "      <th>EVENT_ID</th>\n",
       "      <th>STATE</th>\n",
       "      <th>EVENT_TYPE</th>\n",
       "      <th>INJURIES_DIRECT</th>\n",
       "      <th>INJURIES_INDIRECT</th>\n",
       "      <th>DEATHS_DIRECT</th>\n",
       "      <th>DEATHS_INDIRECT</th>\n",
       "      <th>DAMAGE_PROPERTY</th>\n",
       "      <th>MAGNITUDE</th>\n",
       "      <th>MAGNITUDE_TYPE</th>\n",
       "      <th>BEGIN_LAT</th>\n",
       "      <th>BEGIN_LON</th>\n",
       "      <th>END_LAT</th>\n",
       "      <th>END_LON</th>\n",
       "    </tr>\n",
       "  </thead>\n",
       "  <tbody>\n",
       "    <tr>\n",
       "      <th>1867</th>\n",
       "      <td>1955-06-01</td>\n",
       "      <td>9976778</td>\n",
       "      <td>ALABAMA</td>\n",
       "      <td>Thunderstorm Wind</td>\n",
       "      <td>0.0</td>\n",
       "      <td>0.0</td>\n",
       "      <td>0.0</td>\n",
       "      <td>0.0</td>\n",
       "      <td>0</td>\n",
       "      <td>0.0</td>\n",
       "      <td>NaN</td>\n",
       "      <td>33.00</td>\n",
       "      <td>-86.78</td>\n",
       "      <td>NaN</td>\n",
       "      <td>NaN</td>\n",
       "    </tr>\n",
       "    <tr>\n",
       "      <th>1869</th>\n",
       "      <td>1955-07-01</td>\n",
       "      <td>9976780</td>\n",
       "      <td>ALABAMA</td>\n",
       "      <td>Thunderstorm Wind</td>\n",
       "      <td>0.0</td>\n",
       "      <td>0.0</td>\n",
       "      <td>0.0</td>\n",
       "      <td>0.0</td>\n",
       "      <td>0</td>\n",
       "      <td>52.0</td>\n",
       "      <td>NaN</td>\n",
       "      <td>33.58</td>\n",
       "      <td>-86.78</td>\n",
       "      <td>NaN</td>\n",
       "      <td>NaN</td>\n",
       "    </tr>\n",
       "    <tr>\n",
       "      <th>1874</th>\n",
       "      <td>1955-10-01</td>\n",
       "      <td>9976786</td>\n",
       "      <td>ALABAMA</td>\n",
       "      <td>Thunderstorm Wind</td>\n",
       "      <td>0.0</td>\n",
       "      <td>0.0</td>\n",
       "      <td>0.0</td>\n",
       "      <td>0.0</td>\n",
       "      <td>0</td>\n",
       "      <td>0.0</td>\n",
       "      <td>NaN</td>\n",
       "      <td>33.58</td>\n",
       "      <td>-86.78</td>\n",
       "      <td>NaN</td>\n",
       "      <td>NaN</td>\n",
       "    </tr>\n",
       "    <tr>\n",
       "      <th>1881</th>\n",
       "      <td>1955-03-01</td>\n",
       "      <td>10005140</td>\n",
       "      <td>INDIANA</td>\n",
       "      <td>Thunderstorm Wind</td>\n",
       "      <td>0.0</td>\n",
       "      <td>0.0</td>\n",
       "      <td>0.0</td>\n",
       "      <td>0.0</td>\n",
       "      <td>0</td>\n",
       "      <td>0.0</td>\n",
       "      <td>NaN</td>\n",
       "      <td>41.00</td>\n",
       "      <td>-85.18</td>\n",
       "      <td>NaN</td>\n",
       "      <td>NaN</td>\n",
       "    </tr>\n",
       "    <tr>\n",
       "      <th>1883</th>\n",
       "      <td>1955-05-01</td>\n",
       "      <td>10000327</td>\n",
       "      <td>GEORGIA</td>\n",
       "      <td>Thunderstorm Wind</td>\n",
       "      <td>0.0</td>\n",
       "      <td>0.0</td>\n",
       "      <td>0.0</td>\n",
       "      <td>0.0</td>\n",
       "      <td>0</td>\n",
       "      <td>0.0</td>\n",
       "      <td>NaN</td>\n",
       "      <td>33.00</td>\n",
       "      <td>-85.00</td>\n",
       "      <td>NaN</td>\n",
       "      <td>NaN</td>\n",
       "    </tr>\n",
       "  </tbody>\n",
       "</table>\n",
       "</div>"
      ],
      "text/plain": [
       "     BEGIN_YEARMONTH  EVENT_ID    STATE         EVENT_TYPE  INJURIES_DIRECT  \\\n",
       "1867      1955-06-01   9976778  ALABAMA  Thunderstorm Wind              0.0   \n",
       "1869      1955-07-01   9976780  ALABAMA  Thunderstorm Wind              0.0   \n",
       "1874      1955-10-01   9976786  ALABAMA  Thunderstorm Wind              0.0   \n",
       "1881      1955-03-01  10005140  INDIANA  Thunderstorm Wind              0.0   \n",
       "1883      1955-05-01  10000327  GEORGIA  Thunderstorm Wind              0.0   \n",
       "\n",
       "      INJURIES_INDIRECT  DEATHS_DIRECT  DEATHS_INDIRECT DAMAGE_PROPERTY  \\\n",
       "1867                0.0            0.0              0.0               0   \n",
       "1869                0.0            0.0              0.0               0   \n",
       "1874                0.0            0.0              0.0               0   \n",
       "1881                0.0            0.0              0.0               0   \n",
       "1883                0.0            0.0              0.0               0   \n",
       "\n",
       "      MAGNITUDE MAGNITUDE_TYPE  BEGIN_LAT  BEGIN_LON  END_LAT  END_LON  \n",
       "1867        0.0            NaN      33.00     -86.78      NaN      NaN  \n",
       "1869       52.0            NaN      33.58     -86.78      NaN      NaN  \n",
       "1874        0.0            NaN      33.58     -86.78      NaN      NaN  \n",
       "1881        0.0            NaN      41.00     -85.18      NaN      NaN  \n",
       "1883        0.0            NaN      33.00     -85.00      NaN      NaN  "
      ]
     },
     "execution_count": 9,
     "metadata": {},
     "output_type": "execute_result"
    }
   ],
   "source": [
    "mvp_wind_df.sort_values(by = 'DEATHS_DIRECT', ascending = False).head()\n",
    "mvp_wind_df.loc[mvp_wind_df.EVENT_TYPE == 'Hurricane (Typhoon)'].sort_values(by = 'MAGNITUDE', ascending = False).head(100)\n",
    "# mvp_wind_df['THUNDERSTORM'] = mvp_wind_df.EVENT_TYPE.apply(thunderstorm)\n",
    "mvp_wind_df[mvp_wind_df.EVENT_TYPE.str.contains(r'[Tt][Hh][Uu][Nn][Dd][Ee][Rr][Ss][Tt][Oo][Rr][Mm]')].sort_values(by = 'DAMAGE_PROPERTY', ascending = False).head()\n",
    "# mvp_wind_df[mvp_wind_df.EVENT_TYPE.str.contains(r'^(?!.*Thunderstorm).*$')].head()\n",
    "# mvp_wind_df.drop(columns = 'THUNDERSTORM', inplace = True)\n",
    "mvp_wind_df.head()"
   ]
  },
  {
   "cell_type": "code",
   "execution_count": 10,
   "metadata": {
    "scrolled": false
   },
   "outputs": [
    {
     "name": "stdout",
     "output_type": "stream",
     "text": [
      "<class 'pandas.core.frame.DataFrame'>\n",
      "Int64Index: 8247 entries, 240281 to 1767446\n",
      "Data columns (total 15 columns):\n",
      "BEGIN_YEARMONTH      8247 non-null object\n",
      "EVENT_ID             8247 non-null int64\n",
      "STATE                8247 non-null object\n",
      "EVENT_TYPE           8247 non-null object\n",
      "INJURIES_DIRECT      8247 non-null float64\n",
      "INJURIES_INDIRECT    8247 non-null float64\n",
      "DEATHS_DIRECT        8247 non-null float64\n",
      "DEATHS_INDIRECT      8247 non-null float64\n",
      "DAMAGE_PROPERTY      5454 non-null object\n",
      "MAGNITUDE            44 non-null float64\n",
      "MAGNITUDE_TYPE       0 non-null object\n",
      "BEGIN_LAT            0 non-null float64\n",
      "BEGIN_LON            0 non-null float64\n",
      "END_LAT              0 non-null float64\n",
      "END_LON              0 non-null float64\n",
      "dtypes: float64(9), int64(1), object(5)\n",
      "memory usage: 1.0+ MB\n"
     ]
    }
   ],
   "source": [
    "# turns out dropping the thunderstorm would yield an extremely sparse dataframe, it did tell me that i need to impute some values for hurricanes\n",
    "test_mvp_wind_df = mvp_wind_df[mvp_wind_df.EVENT_TYPE.str.contains(r'^(?!.*Thunderstorm).*$')]\n",
    "test_mvp_wind_df = test_mvp_wind_df[test_mvp_wind_df.EVENT_TYPE.str.contains(r'^(?!.*THUNDERSTORM).*$')]\n",
    "test_mvp_wind_df[test_mvp_wind_df.EVENT_TYPE.isin(['Tropical Storm',\n",
    "       'Hurricane (Typhoon)', 'Tropical Depression', 'Hurricane',\n",
    "       'Marine Tropical Storm', 'Marine Hurricane/Typhoon',\n",
    "       'Marine Tropical Depression'])].STATE.unique()\n",
    "# test_mvp_wind_df.EVENT_TYPE.unique()\n",
    "test_mvp_wind_df[test_mvp_wind_df.EVENT_TYPE.isin(['Tropical Storm',\n",
    "       'Hurricane (Typhoon)', 'Tropical Depression', 'Hurricane',\n",
    "       'Marine Tropical Storm', 'Marine Hurricane/Typhoon',\n",
    "       'Marine Tropical Depression'])].info()"
   ]
  },
  {
   "cell_type": "code",
   "execution_count": 11,
   "metadata": {},
   "outputs": [],
   "source": [
    "# mvp_wind_df.loc[mvp_wind_df['DAMAGE_PROPERTY'] == '2H','DAMAGE_PROPERTY'] = '2K'\n",
    "# mvp_wind_df.loc[mvp_wind_df['DAMAGE_PROPERTY'] == '2h','DAMAGE_PROPERTY'] = '2K'"
   ]
  },
  {
   "cell_type": "code",
   "execution_count": 12,
   "metadata": {},
   "outputs": [],
   "source": [
    "def convert_to_int(string):\n",
    "    if 'K' or 'H' or 'h' in string:\n",
    "        try:\n",
    "            return float(string[:-1].replace(' ',''))*1000\n",
    "        except:\n",
    "            return None\n",
    "    elif 'M' in string:\n",
    "        try:\n",
    "            return float(string[:-1].replace(' ',''))*1000000\n",
    "        except:\n",
    "            return None\n",
    "    elif 'B' in string:\n",
    "        try:\n",
    "            return float(string[:-1].replace(' ',''))*1000000000\n",
    "        except:\n",
    "            return None\n",
    "    else:\n",
    "        return float(string)"
   ]
  },
  {
   "cell_type": "code",
   "execution_count": 13,
   "metadata": {},
   "outputs": [
    {
     "name": "stdout",
     "output_type": "stream",
     "text": [
      "<class 'pandas.core.frame.DataFrame'>\n",
      "Int64Index: 568137 entries, 1867 to 1782691\n",
      "Data columns (total 15 columns):\n",
      "BEGIN_YEARMONTH      568137 non-null object\n",
      "EVENT_ID             568137 non-null int64\n",
      "STATE                568137 non-null object\n",
      "EVENT_TYPE           568137 non-null object\n",
      "INJURIES_DIRECT      568137 non-null float64\n",
      "INJURIES_INDIRECT    568137 non-null float64\n",
      "DEATHS_DIRECT        568137 non-null float64\n",
      "DEATHS_INDIRECT      568137 non-null float64\n",
      "MAGNITUDE            518682 non-null float64\n",
      "MAGNITUDE_TYPE       370838 non-null object\n",
      "BEGIN_LAT            447389 non-null float64\n",
      "BEGIN_LON            447389 non-null float64\n",
      "END_LAT              356463 non-null float64\n",
      "END_LON              356464 non-null float64\n",
      "DAMAGE_PROPERTY      322855 non-null float64\n",
      "dtypes: float64(10), int64(1), object(4)\n",
      "memory usage: 69.4+ MB\n"
     ]
    }
   ],
   "source": [
    "from time import time\n",
    "start = time()\n",
    "test_mvp_wind_df = deepcopy(mvp_wind_df)\n",
    "test_mvp_wind_df = test_mvp_wind_df.DAMAGE_PROPERTY.apply(convert_to_int)\n",
    "concat_mvp_wind_df = mvp_wind_df.drop(columns=['DAMAGE_PROPERTY'])\n",
    "mvp_wind_df = pd.concat([concat_mvp_wind_df, test_mvp_wind_df], axis = 1)\n",
    "mvp_wind_df.info()"
   ]
  },
  {
   "cell_type": "code",
   "execution_count": 14,
   "metadata": {},
   "outputs": [
    {
     "name": "stdout",
     "output_type": "stream",
     "text": [
      "<class 'pandas.core.frame.DataFrame'>\n",
      "Int64Index: 568137 entries, 1867 to 1782691\n",
      "Data columns (total 15 columns):\n",
      "BEGIN_YEARMONTH      568137 non-null object\n",
      "EVENT_ID             568137 non-null int64\n",
      "STATE                568137 non-null object\n",
      "EVENT_TYPE           568137 non-null object\n",
      "INJURIES_DIRECT      568137 non-null float64\n",
      "INJURIES_INDIRECT    568137 non-null float64\n",
      "DEATHS_DIRECT        568137 non-null float64\n",
      "DEATHS_INDIRECT      568137 non-null float64\n",
      "MAGNITUDE            518682 non-null float64\n",
      "MAGNITUDE_TYPE       370838 non-null object\n",
      "BEGIN_LAT            447389 non-null float64\n",
      "BEGIN_LON            447389 non-null float64\n",
      "END_LAT              356463 non-null float64\n",
      "END_LON              356464 non-null float64\n",
      "DAMAGE_PROPERTY      322855 non-null float64\n",
      "dtypes: float64(10), int64(1), object(4)\n",
      "memory usage: 69.4+ MB\n"
     ]
    }
   ],
   "source": [
    "# mvp_wind_df[mvp_wind_df.MAGNITUDE == 0].groupby(by = 'EVENT_TYPE').count()\n",
    "# mvp_wind_df.groupby(by = 'EVENT_TYPE')[['MAGNITUDE','DAMAGE_PROPERTY','BEGIN_LAT','BEGIN_LON']].agg(['sum','count','mean'])\n",
    "mvp_wind_df.info()"
   ]
  },
  {
   "cell_type": "code",
   "execution_count": 15,
   "metadata": {},
   "outputs": [
    {
     "data": {
      "text/plain": [
       "array(['Thunderstorm Wind', 'High Wind', 'Strong Wind', 'Tropical Storm',\n",
       "       'Hurricane', 'Marine High Wind', 'Marine Thunderstorm Wind',\n",
       "       'Marine Strong Wind', 'Tropical Depression',\n",
       "       'Marine Tropical Storm', 'Marine Hurricane/Typhoon',\n",
       "       'Marine Tropical Depression'], dtype=object)"
      ]
     },
     "execution_count": 15,
     "metadata": {},
     "output_type": "execute_result"
    }
   ],
   "source": [
    "mvp_wind_df = mvp_wind_df[mvp_wind_df.EVENT_TYPE != 'Heavy Wind']\n",
    "mvp_wind_df.loc[mvp_wind_df.EVENT_TYPE == 'Hurricane (Typhoon)', 'EVENT_TYPE'] = 'Hurricane'\n",
    "mvp_wind_df = mvp_wind_df[mvp_wind_df.EVENT_TYPE.str.contains(r'^(?!.*THUNDERSTORM).*$')]\n",
    "mvp_wind_df.EVENT_TYPE.unique()"
   ]
  },
  {
   "cell_type": "code",
   "execution_count": 16,
   "metadata": {
    "scrolled": true
   },
   "outputs": [
    {
     "data": {
      "text/plain": [
       "{'High Wind': 19459.206944750975,\n",
       " 'Hurricane': 70885.64417177915,\n",
       " 'Marine High Wind': 1329.2564102564102,\n",
       " 'Marine Hurricane/Typhoon': 103.44827586206897,\n",
       " 'Marine Strong Wind': 4443.115942028986,\n",
       " 'Marine Thunderstorm Wind': 263.4190036518983,\n",
       " 'Marine Tropical Depression': 0.0,\n",
       " 'Marine Tropical Storm': 0.0,\n",
       " 'Strong Wind': 13416.28300303402,\n",
       " 'Thunderstorm Wind': 16578.44222698038,\n",
       " 'Tropical Depression': 106625.95238095238,\n",
       " 'Tropical Storm': 65063.12433955618}"
      ]
     },
     "execution_count": 16,
     "metadata": {},
     "output_type": "execute_result"
    }
   ],
   "source": [
    "# impute all things needed to be imputed\n",
    "avg_speeds = dict(mvp_wind_df.groupby(by = 'EVENT_TYPE').mean()['MAGNITUDE'])\n",
    "avg_speeds['Marine Hurricane/Typhoon'] = avg_speeds['Hurricane']\n",
    "avg_speeds['Marine Tropical Depression'] = 0\n",
    "avg_speeds['Marine Tropical Storm'] = avg_speeds['Tropical Storm']\n",
    "avg_speeds['Tropical Depression'] = 0\n",
    "avg_damage = dict(mvp_wind_df.groupby(by = 'EVENT_TYPE').mean()['DAMAGE_PROPERTY'])\n",
    "avg_lat = mvp_wind_df.BEGIN_LAT.mean()\n",
    "avg_lon = mvp_wind_df.BEGIN_LON.mean()\n",
    "\n",
    "avg_damage"
   ]
  },
  {
   "cell_type": "code",
   "execution_count": 17,
   "metadata": {},
   "outputs": [
    {
     "name": "stdout",
     "output_type": "stream",
     "text": [
      "High Wind\n"
     ]
    },
    {
     "ename": "KeyboardInterrupt",
     "evalue": "",
     "output_type": "error",
     "traceback": [
      "\u001b[0;31m---------------------------------------------------------------------------\u001b[0m",
      "\u001b[0;31mKeyboardInterrupt\u001b[0m                         Traceback (most recent call last)",
      "\u001b[0;32m<ipython-input-17-0ae08d4e9362>\u001b[0m in \u001b[0;36m<module>\u001b[0;34m()\u001b[0m\n\u001b[1;32m      3\u001b[0m \u001b[0mtest_mvp_wind_df\u001b[0m \u001b[0;34m=\u001b[0m \u001b[0mdeepcopy\u001b[0m\u001b[0;34m(\u001b[0m\u001b[0mmvp_wind_df\u001b[0m\u001b[0;34m)\u001b[0m\u001b[0;34m\u001b[0m\u001b[0m\n\u001b[1;32m      4\u001b[0m \u001b[0;32mfor\u001b[0m \u001b[0mevent_type\u001b[0m \u001b[0;32min\u001b[0m \u001b[0mavg_speeds\u001b[0m\u001b[0;34m:\u001b[0m\u001b[0;34m\u001b[0m\u001b[0m\n\u001b[0;32m----> 5\u001b[0;31m     \u001b[0mtest_mvp_wind_df\u001b[0m\u001b[0;34m.\u001b[0m\u001b[0mloc\u001b[0m\u001b[0;34m[\u001b[0m\u001b[0;34m(\u001b[0m\u001b[0;34m(\u001b[0m\u001b[0mtest_mvp_wind_df\u001b[0m\u001b[0;34m.\u001b[0m\u001b[0mMAGNITUDE\u001b[0m\u001b[0;34m.\u001b[0m\u001b[0misnull\u001b[0m\u001b[0;34m(\u001b[0m\u001b[0;34m)\u001b[0m\u001b[0;34m)\u001b[0m \u001b[0;34m&\u001b[0m \u001b[0;34m(\u001b[0m\u001b[0mtest_mvp_wind_df\u001b[0m\u001b[0;34m.\u001b[0m\u001b[0mEVENT_TYPE\u001b[0m \u001b[0;34m==\u001b[0m \u001b[0mevent_type\u001b[0m\u001b[0;34m)\u001b[0m\u001b[0;34m)\u001b[0m\u001b[0;34m,\u001b[0m \u001b[0;34m'MAGNITUDE'\u001b[0m\u001b[0;34m]\u001b[0m \u001b[0;34m=\u001b[0m \u001b[0mavg_speeds\u001b[0m\u001b[0;34m[\u001b[0m\u001b[0mevent_type\u001b[0m\u001b[0;34m]\u001b[0m\u001b[0;34m\u001b[0m\u001b[0m\n\u001b[0m\u001b[1;32m      6\u001b[0m     \u001b[0mprint\u001b[0m\u001b[0;34m(\u001b[0m\u001b[0mevent_type\u001b[0m\u001b[0;34m)\u001b[0m\u001b[0;34m\u001b[0m\u001b[0m\n\u001b[1;32m      7\u001b[0m \u001b[0;32mfor\u001b[0m \u001b[0mevent_type\u001b[0m \u001b[0;32min\u001b[0m \u001b[0mavg_damage\u001b[0m\u001b[0;34m:\u001b[0m\u001b[0;34m\u001b[0m\u001b[0m\n",
      "\u001b[0;32m/anaconda3/lib/python3.6/site-packages/pandas/core/indexing.py\u001b[0m in \u001b[0;36m__setitem__\u001b[0;34m(self, key, value)\u001b[0m\n\u001b[1;32m    186\u001b[0m         \u001b[0;32melse\u001b[0m\u001b[0;34m:\u001b[0m\u001b[0;34m\u001b[0m\u001b[0m\n\u001b[1;32m    187\u001b[0m             \u001b[0mkey\u001b[0m \u001b[0;34m=\u001b[0m \u001b[0mcom\u001b[0m\u001b[0;34m.\u001b[0m\u001b[0m_apply_if_callable\u001b[0m\u001b[0;34m(\u001b[0m\u001b[0mkey\u001b[0m\u001b[0;34m,\u001b[0m \u001b[0mself\u001b[0m\u001b[0;34m.\u001b[0m\u001b[0mobj\u001b[0m\u001b[0;34m)\u001b[0m\u001b[0;34m\u001b[0m\u001b[0m\n\u001b[0;32m--> 188\u001b[0;31m         \u001b[0mindexer\u001b[0m \u001b[0;34m=\u001b[0m \u001b[0mself\u001b[0m\u001b[0;34m.\u001b[0m\u001b[0m_get_setitem_indexer\u001b[0m\u001b[0;34m(\u001b[0m\u001b[0mkey\u001b[0m\u001b[0;34m)\u001b[0m\u001b[0;34m\u001b[0m\u001b[0m\n\u001b[0m\u001b[1;32m    189\u001b[0m         \u001b[0mself\u001b[0m\u001b[0;34m.\u001b[0m\u001b[0m_setitem_with_indexer\u001b[0m\u001b[0;34m(\u001b[0m\u001b[0mindexer\u001b[0m\u001b[0;34m,\u001b[0m \u001b[0mvalue\u001b[0m\u001b[0;34m)\u001b[0m\u001b[0;34m\u001b[0m\u001b[0m\n\u001b[1;32m    190\u001b[0m \u001b[0;34m\u001b[0m\u001b[0m\n",
      "\u001b[0;32m/anaconda3/lib/python3.6/site-packages/pandas/core/indexing.py\u001b[0m in \u001b[0;36m_get_setitem_indexer\u001b[0;34m(self, key)\u001b[0m\n\u001b[1;32m    164\u001b[0m         \u001b[0;32mif\u001b[0m \u001b[0misinstance\u001b[0m\u001b[0;34m(\u001b[0m\u001b[0mkey\u001b[0m\u001b[0;34m,\u001b[0m \u001b[0mtuple\u001b[0m\u001b[0;34m)\u001b[0m\u001b[0;34m:\u001b[0m\u001b[0;34m\u001b[0m\u001b[0m\n\u001b[1;32m    165\u001b[0m             \u001b[0;32mtry\u001b[0m\u001b[0;34m:\u001b[0m\u001b[0;34m\u001b[0m\u001b[0m\n\u001b[0;32m--> 166\u001b[0;31m                 \u001b[0;32mreturn\u001b[0m \u001b[0mself\u001b[0m\u001b[0;34m.\u001b[0m\u001b[0m_convert_tuple\u001b[0m\u001b[0;34m(\u001b[0m\u001b[0mkey\u001b[0m\u001b[0;34m,\u001b[0m \u001b[0mis_setter\u001b[0m\u001b[0;34m=\u001b[0m\u001b[0;32mTrue\u001b[0m\u001b[0;34m)\u001b[0m\u001b[0;34m\u001b[0m\u001b[0m\n\u001b[0m\u001b[1;32m    167\u001b[0m             \u001b[0;32mexcept\u001b[0m \u001b[0mIndexingError\u001b[0m\u001b[0;34m:\u001b[0m\u001b[0;34m\u001b[0m\u001b[0m\n\u001b[1;32m    168\u001b[0m                 \u001b[0;32mpass\u001b[0m\u001b[0;34m\u001b[0m\u001b[0m\n",
      "\u001b[0;32m/anaconda3/lib/python3.6/site-packages/pandas/core/indexing.py\u001b[0m in \u001b[0;36m_convert_tuple\u001b[0;34m(self, key, is_setter)\u001b[0m\n\u001b[1;32m    245\u001b[0m                 \u001b[0;32mif\u001b[0m \u001b[0mi\u001b[0m \u001b[0;34m>=\u001b[0m \u001b[0mself\u001b[0m\u001b[0;34m.\u001b[0m\u001b[0mobj\u001b[0m\u001b[0;34m.\u001b[0m\u001b[0mndim\u001b[0m\u001b[0;34m:\u001b[0m\u001b[0;34m\u001b[0m\u001b[0m\n\u001b[1;32m    246\u001b[0m                     \u001b[0;32mraise\u001b[0m \u001b[0mIndexingError\u001b[0m\u001b[0;34m(\u001b[0m\u001b[0;34m'Too many indexers'\u001b[0m\u001b[0;34m)\u001b[0m\u001b[0;34m\u001b[0m\u001b[0m\n\u001b[0;32m--> 247\u001b[0;31m                 \u001b[0midx\u001b[0m \u001b[0;34m=\u001b[0m \u001b[0mself\u001b[0m\u001b[0;34m.\u001b[0m\u001b[0m_convert_to_indexer\u001b[0m\u001b[0;34m(\u001b[0m\u001b[0mk\u001b[0m\u001b[0;34m,\u001b[0m \u001b[0maxis\u001b[0m\u001b[0;34m=\u001b[0m\u001b[0mi\u001b[0m\u001b[0;34m,\u001b[0m \u001b[0mis_setter\u001b[0m\u001b[0;34m=\u001b[0m\u001b[0mis_setter\u001b[0m\u001b[0;34m)\u001b[0m\u001b[0;34m\u001b[0m\u001b[0m\n\u001b[0m\u001b[1;32m    248\u001b[0m                 \u001b[0mkeyidx\u001b[0m\u001b[0;34m.\u001b[0m\u001b[0mappend\u001b[0m\u001b[0;34m(\u001b[0m\u001b[0midx\u001b[0m\u001b[0;34m)\u001b[0m\u001b[0;34m\u001b[0m\u001b[0m\n\u001b[1;32m    249\u001b[0m         \u001b[0;32mreturn\u001b[0m \u001b[0mtuple\u001b[0m\u001b[0;34m(\u001b[0m\u001b[0mkeyidx\u001b[0m\u001b[0;34m)\u001b[0m\u001b[0;34m\u001b[0m\u001b[0m\n",
      "\u001b[0;32m/anaconda3/lib/python3.6/site-packages/pandas/core/indexing.py\u001b[0m in \u001b[0;36m_convert_to_indexer\u001b[0;34m(self, obj, axis, is_setter)\u001b[0m\n\u001b[1;32m   1261\u001b[0m         \u001b[0;31m# if we are a label return me\u001b[0m\u001b[0;34m\u001b[0m\u001b[0;34m\u001b[0m\u001b[0m\n\u001b[1;32m   1262\u001b[0m         \u001b[0;32mtry\u001b[0m\u001b[0;34m:\u001b[0m\u001b[0;34m\u001b[0m\u001b[0m\n\u001b[0;32m-> 1263\u001b[0;31m             \u001b[0;32mreturn\u001b[0m \u001b[0mlabels\u001b[0m\u001b[0;34m.\u001b[0m\u001b[0mget_loc\u001b[0m\u001b[0;34m(\u001b[0m\u001b[0mobj\u001b[0m\u001b[0;34m)\u001b[0m\u001b[0;34m\u001b[0m\u001b[0m\n\u001b[0m\u001b[1;32m   1264\u001b[0m         \u001b[0;32mexcept\u001b[0m \u001b[0mLookupError\u001b[0m\u001b[0;34m:\u001b[0m\u001b[0;34m\u001b[0m\u001b[0m\n\u001b[1;32m   1265\u001b[0m             \u001b[0;32mif\u001b[0m \u001b[0misinstance\u001b[0m\u001b[0;34m(\u001b[0m\u001b[0mobj\u001b[0m\u001b[0;34m,\u001b[0m \u001b[0mtuple\u001b[0m\u001b[0;34m)\u001b[0m \u001b[0;32mand\u001b[0m \u001b[0misinstance\u001b[0m\u001b[0;34m(\u001b[0m\u001b[0mlabels\u001b[0m\u001b[0;34m,\u001b[0m \u001b[0mMultiIndex\u001b[0m\u001b[0;34m)\u001b[0m\u001b[0;34m:\u001b[0m\u001b[0;34m\u001b[0m\u001b[0m\n",
      "\u001b[0;32m/anaconda3/lib/python3.6/site-packages/pandas/core/indexes/base.py\u001b[0m in \u001b[0;36mget_loc\u001b[0;34m(self, key, method, tolerance)\u001b[0m\n\u001b[1;32m   3076\u001b[0m                                  'backfill or nearest lookups')\n\u001b[1;32m   3077\u001b[0m             \u001b[0;32mtry\u001b[0m\u001b[0;34m:\u001b[0m\u001b[0;34m\u001b[0m\u001b[0m\n\u001b[0;32m-> 3078\u001b[0;31m                 \u001b[0;32mreturn\u001b[0m \u001b[0mself\u001b[0m\u001b[0;34m.\u001b[0m\u001b[0m_engine\u001b[0m\u001b[0;34m.\u001b[0m\u001b[0mget_loc\u001b[0m\u001b[0;34m(\u001b[0m\u001b[0mkey\u001b[0m\u001b[0;34m)\u001b[0m\u001b[0;34m\u001b[0m\u001b[0m\n\u001b[0m\u001b[1;32m   3079\u001b[0m             \u001b[0;32mexcept\u001b[0m \u001b[0mKeyError\u001b[0m\u001b[0;34m:\u001b[0m\u001b[0;34m\u001b[0m\u001b[0m\n\u001b[1;32m   3080\u001b[0m                 \u001b[0;32mreturn\u001b[0m \u001b[0mself\u001b[0m\u001b[0;34m.\u001b[0m\u001b[0m_engine\u001b[0m\u001b[0;34m.\u001b[0m\u001b[0mget_loc\u001b[0m\u001b[0;34m(\u001b[0m\u001b[0mself\u001b[0m\u001b[0;34m.\u001b[0m\u001b[0m_maybe_cast_indexer\u001b[0m\u001b[0;34m(\u001b[0m\u001b[0mkey\u001b[0m\u001b[0;34m)\u001b[0m\u001b[0;34m)\u001b[0m\u001b[0;34m\u001b[0m\u001b[0m\n",
      "\u001b[0;32mpandas/_libs/index.pyx\u001b[0m in \u001b[0;36mpandas._libs.index.IndexEngine.get_loc\u001b[0;34m()\u001b[0m\n",
      "\u001b[0;32mpandas/_libs/index.pyx\u001b[0m in \u001b[0;36mpandas._libs.index.IndexEngine.get_loc\u001b[0;34m()\u001b[0m\n",
      "\u001b[0;32m/anaconda3/lib/python3.6/site-packages/pandas/core/base.py\u001b[0m in \u001b[0;36m__str__\u001b[0;34m(self)\u001b[0m\n\u001b[1;32m     59\u001b[0m \u001b[0;34m\u001b[0m\u001b[0m\n\u001b[1;32m     60\u001b[0m         \u001b[0;32mif\u001b[0m \u001b[0mcompat\u001b[0m\u001b[0;34m.\u001b[0m\u001b[0mPY3\u001b[0m\u001b[0;34m:\u001b[0m\u001b[0;34m\u001b[0m\u001b[0m\n\u001b[0;32m---> 61\u001b[0;31m             \u001b[0;32mreturn\u001b[0m \u001b[0mself\u001b[0m\u001b[0;34m.\u001b[0m\u001b[0m__unicode__\u001b[0m\u001b[0;34m(\u001b[0m\u001b[0;34m)\u001b[0m\u001b[0;34m\u001b[0m\u001b[0m\n\u001b[0m\u001b[1;32m     62\u001b[0m         \u001b[0;32mreturn\u001b[0m \u001b[0mself\u001b[0m\u001b[0;34m.\u001b[0m\u001b[0m__bytes__\u001b[0m\u001b[0;34m(\u001b[0m\u001b[0;34m)\u001b[0m\u001b[0;34m\u001b[0m\u001b[0m\n\u001b[1;32m     63\u001b[0m \u001b[0;34m\u001b[0m\u001b[0m\n",
      "\u001b[0;32m/anaconda3/lib/python3.6/site-packages/pandas/core/series.py\u001b[0m in \u001b[0;36m__unicode__\u001b[0;34m(self)\u001b[0m\n\u001b[1;32m   1233\u001b[0m \u001b[0;34m\u001b[0m\u001b[0m\n\u001b[1;32m   1234\u001b[0m         self.to_string(buf=buf, name=self.name, dtype=self.dtype,\n\u001b[0;32m-> 1235\u001b[0;31m                        max_rows=max_rows, length=show_dimensions)\n\u001b[0m\u001b[1;32m   1236\u001b[0m         \u001b[0mresult\u001b[0m \u001b[0;34m=\u001b[0m \u001b[0mbuf\u001b[0m\u001b[0;34m.\u001b[0m\u001b[0mgetvalue\u001b[0m\u001b[0;34m(\u001b[0m\u001b[0;34m)\u001b[0m\u001b[0;34m\u001b[0m\u001b[0m\n\u001b[1;32m   1237\u001b[0m \u001b[0;34m\u001b[0m\u001b[0m\n",
      "\u001b[0;32m/anaconda3/lib/python3.6/site-packages/pandas/core/series.py\u001b[0m in \u001b[0;36mto_string\u001b[0;34m(self, buf, na_rep, float_format, header, index, length, dtype, name, max_rows)\u001b[0m\n\u001b[1;32m   1277\u001b[0m                                         \u001b[0mfloat_format\u001b[0m\u001b[0;34m=\u001b[0m\u001b[0mfloat_format\u001b[0m\u001b[0;34m,\u001b[0m\u001b[0;34m\u001b[0m\u001b[0m\n\u001b[1;32m   1278\u001b[0m                                         max_rows=max_rows)\n\u001b[0;32m-> 1279\u001b[0;31m         \u001b[0mresult\u001b[0m \u001b[0;34m=\u001b[0m \u001b[0mformatter\u001b[0m\u001b[0;34m.\u001b[0m\u001b[0mto_string\u001b[0m\u001b[0;34m(\u001b[0m\u001b[0;34m)\u001b[0m\u001b[0;34m\u001b[0m\u001b[0m\n\u001b[0m\u001b[1;32m   1280\u001b[0m \u001b[0;34m\u001b[0m\u001b[0m\n\u001b[1;32m   1281\u001b[0m         \u001b[0;31m# catch contract violations\u001b[0m\u001b[0;34m\u001b[0m\u001b[0;34m\u001b[0m\u001b[0m\n",
      "\u001b[0;32m/anaconda3/lib/python3.6/site-packages/pandas/io/formats/format.py\u001b[0m in \u001b[0;36mto_string\u001b[0;34m(self)\u001b[0m\n\u001b[1;32m    268\u001b[0m \u001b[0;34m\u001b[0m\u001b[0m\n\u001b[1;32m    269\u001b[0m         \u001b[0mfmt_index\u001b[0m\u001b[0;34m,\u001b[0m \u001b[0mhave_header\u001b[0m \u001b[0;34m=\u001b[0m \u001b[0mself\u001b[0m\u001b[0;34m.\u001b[0m\u001b[0m_get_formatted_index\u001b[0m\u001b[0;34m(\u001b[0m\u001b[0;34m)\u001b[0m\u001b[0;34m\u001b[0m\u001b[0m\n\u001b[0;32m--> 270\u001b[0;31m         \u001b[0mfmt_values\u001b[0m \u001b[0;34m=\u001b[0m \u001b[0mself\u001b[0m\u001b[0;34m.\u001b[0m\u001b[0m_get_formatted_values\u001b[0m\u001b[0;34m(\u001b[0m\u001b[0;34m)\u001b[0m\u001b[0;34m\u001b[0m\u001b[0m\n\u001b[0m\u001b[1;32m    271\u001b[0m \u001b[0;34m\u001b[0m\u001b[0m\n\u001b[1;32m    272\u001b[0m         \u001b[0;32mif\u001b[0m \u001b[0mself\u001b[0m\u001b[0;34m.\u001b[0m\u001b[0mtruncate_v\u001b[0m\u001b[0;34m:\u001b[0m\u001b[0;34m\u001b[0m\u001b[0m\n",
      "\u001b[0;32m/anaconda3/lib/python3.6/site-packages/pandas/io/formats/format.py\u001b[0m in \u001b[0;36m_get_formatted_values\u001b[0;34m(self)\u001b[0m\n\u001b[1;32m    258\u001b[0m         \u001b[0mvalues_to_format\u001b[0m \u001b[0;34m=\u001b[0m \u001b[0mself\u001b[0m\u001b[0;34m.\u001b[0m\u001b[0mtr_series\u001b[0m\u001b[0;34m.\u001b[0m\u001b[0m_formatting_values\u001b[0m\u001b[0;34m(\u001b[0m\u001b[0;34m)\u001b[0m\u001b[0;34m\u001b[0m\u001b[0m\n\u001b[1;32m    259\u001b[0m         return format_array(values_to_format, None,\n\u001b[0;32m--> 260\u001b[0;31m                             float_format=self.float_format, na_rep=self.na_rep)\n\u001b[0m\u001b[1;32m    261\u001b[0m \u001b[0;34m\u001b[0m\u001b[0m\n\u001b[1;32m    262\u001b[0m     \u001b[0;32mdef\u001b[0m \u001b[0mto_string\u001b[0m\u001b[0;34m(\u001b[0m\u001b[0mself\u001b[0m\u001b[0;34m)\u001b[0m\u001b[0;34m:\u001b[0m\u001b[0;34m\u001b[0m\u001b[0m\n",
      "\u001b[0;32m/anaconda3/lib/python3.6/site-packages/pandas/io/formats/format.py\u001b[0m in \u001b[0;36mformat_array\u001b[0;34m(values, formatter, float_format, na_rep, digits, space, justify, decimal)\u001b[0m\n\u001b[1;32m    894\u001b[0m                         space=space, justify=justify, decimal=decimal)\n\u001b[1;32m    895\u001b[0m \u001b[0;34m\u001b[0m\u001b[0m\n\u001b[0;32m--> 896\u001b[0;31m     \u001b[0;32mreturn\u001b[0m \u001b[0mfmt_obj\u001b[0m\u001b[0;34m.\u001b[0m\u001b[0mget_result\u001b[0m\u001b[0;34m(\u001b[0m\u001b[0;34m)\u001b[0m\u001b[0;34m\u001b[0m\u001b[0m\n\u001b[0m\u001b[1;32m    897\u001b[0m \u001b[0;34m\u001b[0m\u001b[0m\n\u001b[1;32m    898\u001b[0m \u001b[0;34m\u001b[0m\u001b[0m\n",
      "\u001b[0;32m/anaconda3/lib/python3.6/site-packages/pandas/io/formats/format.py\u001b[0m in \u001b[0;36mget_result\u001b[0;34m(self)\u001b[0m\n\u001b[1;32m    914\u001b[0m \u001b[0;34m\u001b[0m\u001b[0m\n\u001b[1;32m    915\u001b[0m     \u001b[0;32mdef\u001b[0m \u001b[0mget_result\u001b[0m\u001b[0;34m(\u001b[0m\u001b[0mself\u001b[0m\u001b[0;34m)\u001b[0m\u001b[0;34m:\u001b[0m\u001b[0;34m\u001b[0m\u001b[0m\n\u001b[0;32m--> 916\u001b[0;31m         \u001b[0mfmt_values\u001b[0m \u001b[0;34m=\u001b[0m \u001b[0mself\u001b[0m\u001b[0;34m.\u001b[0m\u001b[0m_format_strings\u001b[0m\u001b[0;34m(\u001b[0m\u001b[0;34m)\u001b[0m\u001b[0;34m\u001b[0m\u001b[0m\n\u001b[0m\u001b[1;32m    917\u001b[0m         \u001b[0;32mreturn\u001b[0m \u001b[0m_make_fixed_width\u001b[0m\u001b[0;34m(\u001b[0m\u001b[0mfmt_values\u001b[0m\u001b[0;34m,\u001b[0m \u001b[0mself\u001b[0m\u001b[0;34m.\u001b[0m\u001b[0mjustify\u001b[0m\u001b[0;34m)\u001b[0m\u001b[0;34m\u001b[0m\u001b[0m\n\u001b[1;32m    918\u001b[0m \u001b[0;34m\u001b[0m\u001b[0m\n",
      "\u001b[0;32m/anaconda3/lib/python3.6/site-packages/pandas/io/formats/format.py\u001b[0m in \u001b[0;36m_format_strings\u001b[0;34m(self)\u001b[0m\n\u001b[1;32m    960\u001b[0m                 \u001b[0mfmt_values\u001b[0m\u001b[0;34m.\u001b[0m\u001b[0mappend\u001b[0m\u001b[0;34m(\u001b[0m\u001b[0mfloat_format\u001b[0m\u001b[0;34m(\u001b[0m\u001b[0mv\u001b[0m\u001b[0;34m)\u001b[0m\u001b[0;34m)\u001b[0m\u001b[0;34m\u001b[0m\u001b[0m\n\u001b[1;32m    961\u001b[0m             \u001b[0;32melse\u001b[0m\u001b[0;34m:\u001b[0m\u001b[0;34m\u001b[0m\u001b[0m\n\u001b[0;32m--> 962\u001b[0;31m                 \u001b[0mfmt_values\u001b[0m\u001b[0;34m.\u001b[0m\u001b[0mappend\u001b[0m\u001b[0;34m(\u001b[0m\u001b[0;34mu' {v}'\u001b[0m\u001b[0;34m.\u001b[0m\u001b[0mformat\u001b[0m\u001b[0;34m(\u001b[0m\u001b[0mv\u001b[0m\u001b[0;34m=\u001b[0m\u001b[0m_format\u001b[0m\u001b[0;34m(\u001b[0m\u001b[0mv\u001b[0m\u001b[0;34m)\u001b[0m\u001b[0;34m)\u001b[0m\u001b[0;34m)\u001b[0m\u001b[0;34m\u001b[0m\u001b[0m\n\u001b[0m\u001b[1;32m    963\u001b[0m \u001b[0;34m\u001b[0m\u001b[0m\n\u001b[1;32m    964\u001b[0m         \u001b[0;32mreturn\u001b[0m \u001b[0mfmt_values\u001b[0m\u001b[0;34m\u001b[0m\u001b[0m\n",
      "\u001b[0;32m/anaconda3/lib/python3.6/site-packages/pandas/io/formats/format.py\u001b[0m in \u001b[0;36m_format\u001b[0;34m(x)\u001b[0m\n\u001b[1;32m    942\u001b[0m             \u001b[0;32melse\u001b[0m\u001b[0;34m:\u001b[0m\u001b[0;34m\u001b[0m\u001b[0m\n\u001b[1;32m    943\u001b[0m                 \u001b[0;31m# object dtype\u001b[0m\u001b[0;34m\u001b[0m\u001b[0;34m\u001b[0m\u001b[0m\n\u001b[0;32m--> 944\u001b[0;31m                 \u001b[0;32mreturn\u001b[0m \u001b[0;34mu'{x}'\u001b[0m\u001b[0;34m.\u001b[0m\u001b[0mformat\u001b[0m\u001b[0;34m(\u001b[0m\u001b[0mx\u001b[0m\u001b[0;34m=\u001b[0m\u001b[0mformatter\u001b[0m\u001b[0;34m(\u001b[0m\u001b[0mx\u001b[0m\u001b[0;34m)\u001b[0m\u001b[0;34m)\u001b[0m\u001b[0;34m\u001b[0m\u001b[0m\n\u001b[0m\u001b[1;32m    945\u001b[0m \u001b[0;34m\u001b[0m\u001b[0m\n\u001b[1;32m    946\u001b[0m         \u001b[0mvals\u001b[0m \u001b[0;34m=\u001b[0m \u001b[0mself\u001b[0m\u001b[0;34m.\u001b[0m\u001b[0mvalues\u001b[0m\u001b[0;34m\u001b[0m\u001b[0m\n",
      "\u001b[0;32m/anaconda3/lib/python3.6/site-packages/pandas/io/formats/format.py\u001b[0m in \u001b[0;36m<lambda>\u001b[0;34m(x)\u001b[0m\n\u001b[1;32m    929\u001b[0m         formatter = (\n\u001b[1;32m    930\u001b[0m             \u001b[0mself\u001b[0m\u001b[0;34m.\u001b[0m\u001b[0mformatter\u001b[0m \u001b[0;32mif\u001b[0m \u001b[0mself\u001b[0m\u001b[0;34m.\u001b[0m\u001b[0mformatter\u001b[0m \u001b[0;32mis\u001b[0m \u001b[0;32mnot\u001b[0m \u001b[0;32mNone\u001b[0m \u001b[0;32melse\u001b[0m\u001b[0;34m\u001b[0m\u001b[0m\n\u001b[0;32m--> 931\u001b[0;31m             (lambda x: pprint_thing(x, escape_chars=('\\t', '\\r', '\\n'))))\n\u001b[0m\u001b[1;32m    932\u001b[0m \u001b[0;34m\u001b[0m\u001b[0m\n\u001b[1;32m    933\u001b[0m         \u001b[0;32mdef\u001b[0m \u001b[0m_format\u001b[0m\u001b[0;34m(\u001b[0m\u001b[0mx\u001b[0m\u001b[0;34m)\u001b[0m\u001b[0;34m:\u001b[0m\u001b[0;34m\u001b[0m\u001b[0m\n",
      "\u001b[0;32m/anaconda3/lib/python3.6/site-packages/pandas/io/formats/printing.py\u001b[0m in \u001b[0;36mpprint_thing\u001b[0;34m(thing, _nest_lvl, escape_chars, default_escapes, quote_strings, max_seq_items)\u001b[0m\n\u001b[1;32m    223\u001b[0m         \u001b[0mresult\u001b[0m \u001b[0;34m=\u001b[0m \u001b[0mfmt\u001b[0m\u001b[0;34m.\u001b[0m\u001b[0mformat\u001b[0m\u001b[0;34m(\u001b[0m\u001b[0mthing\u001b[0m\u001b[0;34m=\u001b[0m\u001b[0mas_escaped_unicode\u001b[0m\u001b[0;34m(\u001b[0m\u001b[0mthing\u001b[0m\u001b[0;34m)\u001b[0m\u001b[0;34m)\u001b[0m\u001b[0;34m\u001b[0m\u001b[0m\n\u001b[1;32m    224\u001b[0m     \u001b[0;32melse\u001b[0m\u001b[0;34m:\u001b[0m\u001b[0;34m\u001b[0m\u001b[0m\n\u001b[0;32m--> 225\u001b[0;31m         \u001b[0mresult\u001b[0m \u001b[0;34m=\u001b[0m \u001b[0mas_escaped_unicode\u001b[0m\u001b[0;34m(\u001b[0m\u001b[0mthing\u001b[0m\u001b[0;34m)\u001b[0m\u001b[0;34m\u001b[0m\u001b[0m\n\u001b[0m\u001b[1;32m    226\u001b[0m \u001b[0;34m\u001b[0m\u001b[0m\n\u001b[1;32m    227\u001b[0m     \u001b[0;32mreturn\u001b[0m \u001b[0mcompat\u001b[0m\u001b[0;34m.\u001b[0m\u001b[0mtext_type\u001b[0m\u001b[0;34m(\u001b[0m\u001b[0mresult\u001b[0m\u001b[0;34m)\u001b[0m  \u001b[0;31m# always unicode\u001b[0m\u001b[0;34m\u001b[0m\u001b[0m\n",
      "\u001b[0;32m/anaconda3/lib/python3.6/site-packages/pandas/io/formats/printing.py\u001b[0m in \u001b[0;36mas_escaped_unicode\u001b[0;34m(thing, escape_chars)\u001b[0m\n\u001b[1;32m    201\u001b[0m             \u001b[0mescape_chars\u001b[0m \u001b[0;34m=\u001b[0m \u001b[0mescape_chars\u001b[0m \u001b[0;32mor\u001b[0m \u001b[0mtuple\u001b[0m\u001b[0;34m(\u001b[0m\u001b[0;34m)\u001b[0m\u001b[0;34m\u001b[0m\u001b[0m\n\u001b[1;32m    202\u001b[0m         \u001b[0;32mfor\u001b[0m \u001b[0mc\u001b[0m \u001b[0;32min\u001b[0m \u001b[0mescape_chars\u001b[0m\u001b[0;34m:\u001b[0m\u001b[0;34m\u001b[0m\u001b[0m\n\u001b[0;32m--> 203\u001b[0;31m             \u001b[0mresult\u001b[0m \u001b[0;34m=\u001b[0m \u001b[0mresult\u001b[0m\u001b[0;34m.\u001b[0m\u001b[0mreplace\u001b[0m\u001b[0;34m(\u001b[0m\u001b[0mc\u001b[0m\u001b[0;34m,\u001b[0m \u001b[0mtranslate\u001b[0m\u001b[0;34m[\u001b[0m\u001b[0mc\u001b[0m\u001b[0;34m]\u001b[0m\u001b[0;34m)\u001b[0m\u001b[0;34m\u001b[0m\u001b[0m\n\u001b[0m\u001b[1;32m    204\u001b[0m \u001b[0;34m\u001b[0m\u001b[0m\n\u001b[1;32m    205\u001b[0m         \u001b[0;32mreturn\u001b[0m \u001b[0mcompat\u001b[0m\u001b[0;34m.\u001b[0m\u001b[0mtext_type\u001b[0m\u001b[0;34m(\u001b[0m\u001b[0mresult\u001b[0m\u001b[0;34m)\u001b[0m\u001b[0;34m\u001b[0m\u001b[0m\n",
      "\u001b[0;31mKeyboardInterrupt\u001b[0m: "
     ]
    }
   ],
   "source": [
    "# now plug into magnitude Nans\n",
    "from copy import deepcopy\n",
    "test_mvp_wind_df = deepcopy(mvp_wind_df)\n",
    "for event_type in avg_speeds:\n",
    "    test_mvp_wind_df.loc[((test_mvp_wind_df.MAGNITUDE.isnull()) & (test_mvp_wind_df.EVENT_TYPE == event_type)), 'MAGNITUDE'] = avg_speeds[event_type]\n",
    "    print(event_type)\n",
    "for event_type in avg_damage:\n",
    "    test_mvp_wind_df.loc[((test_mvp_wind_df.DAMAGE_PROPERTY.isnull()) & (test_mvp_wind_df.EVENT_TYPE == event_type)), 'DAMAGE_PROPERTY'] = avg_damage[event_type]\n",
    "    print(event_type)\n",
    "test_mvp_wind_df.loc[test_mvp_wind_df.BEGIN_LAT.isnull(), 'BEGIN_LAT'] = avg_lat\n",
    "test_mvp_wind_df.loc[test_mvp_wind_df.BEGIN_LON.isnull(), 'BEGIN_LON'] = avg_lon                    "
   ]
  },
  {
   "cell_type": "code",
   "execution_count": 18,
   "metadata": {},
   "outputs": [],
   "source": [
    "mvp_wind_df = test_mvp_wind_df"
   ]
  },
  {
   "cell_type": "code",
   "execution_count": 22,
   "metadata": {},
   "outputs": [
    {
     "name": "stdout",
     "output_type": "stream",
     "text": [
      "<class 'pandas.core.frame.DataFrame'>\n",
      "Int64Index: 568119 entries, 1867 to 1782691\n",
      "Data columns (total 12 columns):\n",
      "BEGIN_YEARMONTH      568119 non-null object\n",
      "EVENT_ID             568119 non-null int64\n",
      "STATE                568119 non-null object\n",
      "EVENT_TYPE           568119 non-null object\n",
      "INJURIES_DIRECT      568119 non-null float64\n",
      "INJURIES_INDIRECT    568119 non-null float64\n",
      "DEATHS_DIRECT        568119 non-null float64\n",
      "DEATHS_INDIRECT      568119 non-null float64\n",
      "MAGNITUDE            568119 non-null float64\n",
      "BEGIN_LAT            568119 non-null float64\n",
      "BEGIN_LON            568119 non-null float64\n",
      "DAMAGE_PROPERTY      568119 non-null float64\n",
      "dtypes: float64(8), int64(1), object(3)\n",
      "memory usage: 56.3+ MB\n"
     ]
    }
   ],
   "source": [
    "mvp_wind_df = mvp_wind_df.drop(columns = ['MAGNITUDE_TYPE', 'END_LAT', 'END_LON'])\n",
    "mvp_wind_df.info()"
   ]
  },
  {
   "cell_type": "code",
   "execution_count": 23,
   "metadata": {},
   "outputs": [],
   "source": [
    "import pickle\n",
    "with open('mvp_wind_df' + '.pkl', 'wb') as picklefile:\n",
    "    pickle.dump(mvp_wind_df, picklefile)"
   ]
  },
  {
   "cell_type": "code",
   "execution_count": 29,
   "metadata": {},
   "outputs": [
    {
     "name": "stdout",
     "output_type": "stream",
     "text": [
      "<class 'pandas.core.frame.DataFrame'>\n",
      "Int64Index: 1380 entries, 0 to 1379\n",
      "Data columns (total 3 columns):\n",
      "tas                1380 non-null float64\n",
      "BEGIN_YEARMONTH    1380 non-null object\n",
      "pr                 1380 non-null float64\n",
      "dtypes: float64(2), object(1)\n",
      "memory usage: 43.1+ KB\n"
     ]
    }
   ],
   "source": [
    "climate_df.info()"
   ]
  },
  {
   "cell_type": "code",
   "execution_count": 39,
   "metadata": {},
   "outputs": [],
   "source": [
    "combined_df = pd.merge(climate_df,mvp_wind_df, how = 'inner', on = 'BEGIN_YEARMONTH')\n",
    "combined_df.rename(columns = {'tas': 'Temperature', 'pr': 'Precipitation'}, inplace = True)"
   ]
  },
  {
   "cell_type": "code",
   "execution_count": 40,
   "metadata": {},
   "outputs": [],
   "source": [
    "import pickle\n",
    "with open('combined_df' + '.pkl', 'wb') as picklefile:\n",
    "    pickle.dump(combined_df, picklefile)"
   ]
  },
  {
   "cell_type": "code",
   "execution_count": 36,
   "metadata": {
    "scrolled": true
   },
   "outputs": [
    {
     "name": "stdout",
     "output_type": "stream",
     "text": [
      "<class 'pandas.core.frame.DataFrame'>\n",
      "Int64Index: 568119 entries, 1867 to 1782691\n",
      "Data columns (total 78 columns):\n",
      "BEGIN_YEARMONTH                  568119 non-null object\n",
      "EVENT_ID                         568119 non-null int64\n",
      "EVENT_TYPE                       568119 non-null object\n",
      "INJURIES_DIRECT                  568119 non-null float64\n",
      "INJURIES_INDIRECT                568119 non-null float64\n",
      "DEATHS_DIRECT                    568119 non-null float64\n",
      "DEATHS_INDIRECT                  568119 non-null float64\n",
      "MAGNITUDE                        568119 non-null float64\n",
      "BEGIN_LAT                        568119 non-null float64\n",
      "BEGIN_LON                        568119 non-null float64\n",
      "DAMAGE_PROPERTY                  568119 non-null float64\n",
      "STATE[T.ALASKA]                  568119 non-null float64\n",
      "STATE[T.AMERICAN SAMOA]          568119 non-null float64\n",
      "STATE[T.ARIZONA]                 568119 non-null float64\n",
      "STATE[T.ARKANSAS]                568119 non-null float64\n",
      "STATE[T.ATLANTIC NORTH]          568119 non-null float64\n",
      "STATE[T.ATLANTIC SOUTH]          568119 non-null float64\n",
      "STATE[T.CALIFORNIA]              568119 non-null float64\n",
      "STATE[T.COLORADO]                568119 non-null float64\n",
      "STATE[T.CONNECTICUT]             568119 non-null float64\n",
      "STATE[T.DELAWARE]                568119 non-null float64\n",
      "STATE[T.DISTRICT OF COLUMBIA]    568119 non-null float64\n",
      "STATE[T.E PACIFIC]               568119 non-null float64\n",
      "STATE[T.FLORIDA]                 568119 non-null float64\n",
      "STATE[T.GEORGIA]                 568119 non-null float64\n",
      "STATE[T.GUAM]                    568119 non-null float64\n",
      "STATE[T.GULF OF ALASKA]          568119 non-null float64\n",
      "STATE[T.GULF OF MEXICO]          568119 non-null float64\n",
      "STATE[T.HAWAII]                  568119 non-null float64\n",
      "STATE[T.HAWAII WATERS]           568119 non-null float64\n",
      "STATE[T.IDAHO]                   568119 non-null float64\n",
      "STATE[T.ILLINOIS]                568119 non-null float64\n",
      "STATE[T.INDIANA]                 568119 non-null float64\n",
      "STATE[T.IOWA]                    568119 non-null float64\n",
      "STATE[T.KANSAS]                  568119 non-null float64\n",
      "STATE[T.KENTUCKY]                568119 non-null float64\n",
      "STATE[T.LAKE ERIE]               568119 non-null float64\n",
      "STATE[T.LAKE HURON]              568119 non-null float64\n",
      "STATE[T.LAKE MICHIGAN]           568119 non-null float64\n",
      "STATE[T.LAKE ONTARIO]            568119 non-null float64\n",
      "STATE[T.LAKE ST CLAIR]           568119 non-null float64\n",
      "STATE[T.LAKE SUPERIOR]           568119 non-null float64\n",
      "STATE[T.LOUISIANA]               568119 non-null float64\n",
      "STATE[T.MAINE]                   568119 non-null float64\n",
      "STATE[T.MARYLAND]                568119 non-null float64\n",
      "STATE[T.MASSACHUSETTS]           568119 non-null float64\n",
      "STATE[T.MICHIGAN]                568119 non-null float64\n",
      "STATE[T.MINNESOTA]               568119 non-null float64\n",
      "STATE[T.MISSISSIPPI]             568119 non-null float64\n",
      "STATE[T.MISSOURI]                568119 non-null float64\n",
      "STATE[T.MONTANA]                 568119 non-null float64\n",
      "STATE[T.NEBRASKA]                568119 non-null float64\n",
      "STATE[T.NEVADA]                  568119 non-null float64\n",
      "STATE[T.NEW HAMPSHIRE]           568119 non-null float64\n",
      "STATE[T.NEW JERSEY]              568119 non-null float64\n",
      "STATE[T.NEW MEXICO]              568119 non-null float64\n",
      "STATE[T.NEW YORK]                568119 non-null float64\n",
      "STATE[T.NORTH CAROLINA]          568119 non-null float64\n",
      "STATE[T.NORTH DAKOTA]            568119 non-null float64\n",
      "STATE[T.OHIO]                    568119 non-null float64\n",
      "STATE[T.OKLAHOMA]                568119 non-null float64\n",
      "STATE[T.OREGON]                  568119 non-null float64\n",
      "STATE[T.PENNSYLVANIA]            568119 non-null float64\n",
      "STATE[T.PUERTO RICO]             568119 non-null float64\n",
      "STATE[T.RHODE ISLAND]            568119 non-null float64\n",
      "STATE[T.SOUTH CAROLINA]          568119 non-null float64\n",
      "STATE[T.SOUTH DAKOTA]            568119 non-null float64\n",
      "STATE[T.ST LAWRENCE R]           568119 non-null float64\n",
      "STATE[T.TENNESSEE]               568119 non-null float64\n",
      "STATE[T.TEXAS]                   568119 non-null float64\n",
      "STATE[T.UTAH]                    568119 non-null float64\n",
      "STATE[T.VERMONT]                 568119 non-null float64\n",
      "STATE[T.VIRGIN ISLANDS]          568119 non-null float64\n",
      "STATE[T.VIRGINIA]                568119 non-null float64\n",
      "STATE[T.WASHINGTON]              568119 non-null float64\n",
      "STATE[T.WEST VIRGINIA]           568119 non-null float64\n",
      "STATE[T.WISCONSIN]               568119 non-null float64\n",
      "STATE[T.WYOMING]                 568119 non-null float64\n",
      "dtypes: float64(75), int64(1), object(2)\n",
      "memory usage: 342.4+ MB\n"
     ]
    }
   ],
   "source": [
    "import patsy\n",
    "dummified_df = patsy.dmatrix('STATE', data = mvp_wind_df, return_type = 'dataframe')\n",
    "dummified_df.drop(columns = ['Intercept'], inplace = True)\n",
    "dummified_mvp_wind_df = pd.concat([mvp_wind_df, dummified_df], axis=1)\n",
    "dummified_mvp_wind_df.drop(columns = ['STATE'], inplace = True)\n",
    "dummified_mvp_wind_df.info()"
   ]
  },
  {
   "cell_type": "code",
   "execution_count": 37,
   "metadata": {
    "scrolled": true
   },
   "outputs": [
    {
     "name": "stdout",
     "output_type": "stream",
     "text": [
      "<class 'pandas.core.frame.DataFrame'>\n",
      "Int64Index: 568119 entries, 1867 to 1782691\n",
      "Data columns (total 88 columns):\n",
      "BEGIN_YEARMONTH                             568119 non-null object\n",
      "EVENT_ID                                    568119 non-null int64\n",
      "INJURIES_DIRECT                             568119 non-null float64\n",
      "INJURIES_INDIRECT                           568119 non-null float64\n",
      "DEATHS_DIRECT                               568119 non-null float64\n",
      "DEATHS_INDIRECT                             568119 non-null float64\n",
      "MAGNITUDE                                   568119 non-null float64\n",
      "BEGIN_LAT                                   568119 non-null float64\n",
      "BEGIN_LON                                   568119 non-null float64\n",
      "DAMAGE_PROPERTY                             568119 non-null float64\n",
      "STATE[T.ALASKA]                             568119 non-null float64\n",
      "STATE[T.AMERICAN SAMOA]                     568119 non-null float64\n",
      "STATE[T.ARIZONA]                            568119 non-null float64\n",
      "STATE[T.ARKANSAS]                           568119 non-null float64\n",
      "STATE[T.ATLANTIC NORTH]                     568119 non-null float64\n",
      "STATE[T.ATLANTIC SOUTH]                     568119 non-null float64\n",
      "STATE[T.CALIFORNIA]                         568119 non-null float64\n",
      "STATE[T.COLORADO]                           568119 non-null float64\n",
      "STATE[T.CONNECTICUT]                        568119 non-null float64\n",
      "STATE[T.DELAWARE]                           568119 non-null float64\n",
      "STATE[T.DISTRICT OF COLUMBIA]               568119 non-null float64\n",
      "STATE[T.E PACIFIC]                          568119 non-null float64\n",
      "STATE[T.FLORIDA]                            568119 non-null float64\n",
      "STATE[T.GEORGIA]                            568119 non-null float64\n",
      "STATE[T.GUAM]                               568119 non-null float64\n",
      "STATE[T.GULF OF ALASKA]                     568119 non-null float64\n",
      "STATE[T.GULF OF MEXICO]                     568119 non-null float64\n",
      "STATE[T.HAWAII]                             568119 non-null float64\n",
      "STATE[T.HAWAII WATERS]                      568119 non-null float64\n",
      "STATE[T.IDAHO]                              568119 non-null float64\n",
      "STATE[T.ILLINOIS]                           568119 non-null float64\n",
      "STATE[T.INDIANA]                            568119 non-null float64\n",
      "STATE[T.IOWA]                               568119 non-null float64\n",
      "STATE[T.KANSAS]                             568119 non-null float64\n",
      "STATE[T.KENTUCKY]                           568119 non-null float64\n",
      "STATE[T.LAKE ERIE]                          568119 non-null float64\n",
      "STATE[T.LAKE HURON]                         568119 non-null float64\n",
      "STATE[T.LAKE MICHIGAN]                      568119 non-null float64\n",
      "STATE[T.LAKE ONTARIO]                       568119 non-null float64\n",
      "STATE[T.LAKE ST CLAIR]                      568119 non-null float64\n",
      "STATE[T.LAKE SUPERIOR]                      568119 non-null float64\n",
      "STATE[T.LOUISIANA]                          568119 non-null float64\n",
      "STATE[T.MAINE]                              568119 non-null float64\n",
      "STATE[T.MARYLAND]                           568119 non-null float64\n",
      "STATE[T.MASSACHUSETTS]                      568119 non-null float64\n",
      "STATE[T.MICHIGAN]                           568119 non-null float64\n",
      "STATE[T.MINNESOTA]                          568119 non-null float64\n",
      "STATE[T.MISSISSIPPI]                        568119 non-null float64\n",
      "STATE[T.MISSOURI]                           568119 non-null float64\n",
      "STATE[T.MONTANA]                            568119 non-null float64\n",
      "STATE[T.NEBRASKA]                           568119 non-null float64\n",
      "STATE[T.NEVADA]                             568119 non-null float64\n",
      "STATE[T.NEW HAMPSHIRE]                      568119 non-null float64\n",
      "STATE[T.NEW JERSEY]                         568119 non-null float64\n",
      "STATE[T.NEW MEXICO]                         568119 non-null float64\n",
      "STATE[T.NEW YORK]                           568119 non-null float64\n",
      "STATE[T.NORTH CAROLINA]                     568119 non-null float64\n",
      "STATE[T.NORTH DAKOTA]                       568119 non-null float64\n",
      "STATE[T.OHIO]                               568119 non-null float64\n",
      "STATE[T.OKLAHOMA]                           568119 non-null float64\n",
      "STATE[T.OREGON]                             568119 non-null float64\n",
      "STATE[T.PENNSYLVANIA]                       568119 non-null float64\n",
      "STATE[T.PUERTO RICO]                        568119 non-null float64\n",
      "STATE[T.RHODE ISLAND]                       568119 non-null float64\n",
      "STATE[T.SOUTH CAROLINA]                     568119 non-null float64\n",
      "STATE[T.SOUTH DAKOTA]                       568119 non-null float64\n",
      "STATE[T.ST LAWRENCE R]                      568119 non-null float64\n",
      "STATE[T.TENNESSEE]                          568119 non-null float64\n",
      "STATE[T.TEXAS]                              568119 non-null float64\n",
      "STATE[T.UTAH]                               568119 non-null float64\n",
      "STATE[T.VERMONT]                            568119 non-null float64\n",
      "STATE[T.VIRGIN ISLANDS]                     568119 non-null float64\n",
      "STATE[T.VIRGINIA]                           568119 non-null float64\n",
      "STATE[T.WASHINGTON]                         568119 non-null float64\n",
      "STATE[T.WEST VIRGINIA]                      568119 non-null float64\n",
      "STATE[T.WISCONSIN]                          568119 non-null float64\n",
      "STATE[T.WYOMING]                            568119 non-null float64\n",
      "EVENT_TYPE[T.Hurricane]                     568119 non-null float64\n",
      "EVENT_TYPE[T.Marine High Wind]              568119 non-null float64\n",
      "EVENT_TYPE[T.Marine Hurricane/Typhoon]      568119 non-null float64\n",
      "EVENT_TYPE[T.Marine Strong Wind]            568119 non-null float64\n",
      "EVENT_TYPE[T.Marine Thunderstorm Wind]      568119 non-null float64\n",
      "EVENT_TYPE[T.Marine Tropical Depression]    568119 non-null float64\n",
      "EVENT_TYPE[T.Marine Tropical Storm]         568119 non-null float64\n",
      "EVENT_TYPE[T.Strong Wind]                   568119 non-null float64\n",
      "EVENT_TYPE[T.Thunderstorm Wind]             568119 non-null float64\n",
      "EVENT_TYPE[T.Tropical Depression]           568119 non-null float64\n",
      "EVENT_TYPE[T.Tropical Storm]                568119 non-null float64\n",
      "dtypes: float64(86), int64(1), object(1)\n",
      "memory usage: 385.8+ MB\n"
     ]
    }
   ],
   "source": [
    "dummified_df = patsy.dmatrix('EVENT_TYPE', data = dummified_mvp_wind_df, return_type = 'dataframe')\n",
    "dummified_df.drop(columns = ['Intercept'], inplace = True)\n",
    "dummified_mvp_wind_df = pd.concat([dummified_mvp_wind_df, dummified_df], axis=1)\n",
    "dummified_mvp_wind_df.drop(columns = ['EVENT_TYPE'], inplace = True)\n",
    "dummified_mvp_wind_df.info()"
   ]
  },
  {
   "cell_type": "code",
   "execution_count": 42,
   "metadata": {},
   "outputs": [],
   "source": [
    "combined_dummified_df = pd.merge(climate_df,dummified_mvp_wind_df, how = 'inner', on = 'BEGIN_YEARMONTH')\n",
    "combined_dummified_df.rename(columns = {'tas': 'Temperature', 'pr': 'Precipitation'}, inplace = True)\n",
    "\n",
    "import pickle\n",
    "with open('combined_dummified_df' + '.pkl', 'wb') as picklefile:\n",
    "    pickle.dump(combined_dummified_df, picklefile)"
   ]
  }
 ],
 "metadata": {
  "kernelspec": {
   "display_name": "Python 3",
   "language": "python",
   "name": "python3"
  },
  "language_info": {
   "codemirror_mode": {
    "name": "ipython",
    "version": 3
   },
   "file_extension": ".py",
   "mimetype": "text/x-python",
   "name": "python",
   "nbconvert_exporter": "python",
   "pygments_lexer": "ipython3",
   "version": "3.6.6"
  }
 },
 "nbformat": 4,
 "nbformat_minor": 2
}
