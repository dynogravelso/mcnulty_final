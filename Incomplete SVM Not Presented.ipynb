{
 "cells": [
  {
   "cell_type": "code",
   "execution_count": 1,
   "metadata": {},
   "outputs": [],
   "source": [
    "from __future__ import print_function, division\n",
    "import pickle\n",
    "import pandas as pd\n",
    "import numpy as np\n",
    "import matplotlib.pyplot as plt\n",
    "import seaborn as sns\n",
    "from datetime import datetime\n",
    "\n",
    "import statsmodels.api as sm\n",
    "import statsmodels.formula.api as smf\n",
    "from sklearn.linear_model import ElasticNetCV\n",
    "from sklearn.pipeline import make_pipeline\n",
    "from sklearn.tree import DecisionTreeClassifier\n",
    "from sklearn.ensemble import RandomForestClassifier\n",
    "from sklearn.linear_model import LogisticRegression\n",
    "from sklearn.svm import SVC\n",
    "from sklearn.model_selection import train_test_split, RandomizedSearchCV, GridSearchCV\n",
    "from sklearn.preprocessing import StandardScaler\n",
    "pd.options.display.max_rows = None\n",
    "pd.options.display.max_columns = None"
   ]
  },
  {
   "cell_type": "code",
   "execution_count": 2,
   "metadata": {},
   "outputs": [],
   "source": [
    "import pickle\n",
    "with open(\"combined_dummified_df.pkl\", 'rb') as picklefile: \n",
    "    combined_df = pickle.load(picklefile)"
   ]
  },
  {
   "cell_type": "code",
   "execution_count": 3,
   "metadata": {},
   "outputs": [],
   "source": [
    "# make datetime object into date\n",
    "combined_df['Year'] = combined_df.BEGIN_YEARMONTH.apply(lambda x: x.year - 1955)\n",
    "combined_df['Month'] = combined_df.BEGIN_YEARMONTH.apply(lambda x: x.month)\n",
    "combined_df['DAMAGE_SCORE'] = combined_df['DAMAGE_PROPERTY'] + (8e6)*combined_df['DEATHS_DIRECT']"
   ]
  },
  {
   "cell_type": "code",
   "execution_count": 4,
   "metadata": {
    "scrolled": true
   },
   "outputs": [
    {
     "name": "stdout",
     "output_type": "stream",
     "text": [
      "<class 'pandas.core.frame.DataFrame'>\n",
      "Int64Index: 504723 entries, 0 to 504722\n",
      "Data columns (total 87 columns):\n",
      "DAMAGE_SCORE                                504723 non-null float64\n",
      "Year                                        504723 non-null int64\n",
      "Month                                       504723 non-null int64\n",
      "Temperature                                 504723 non-null float64\n",
      "Precipitation                               504723 non-null float64\n",
      "MAGNITUDE                                   504723 non-null float64\n",
      "BEGIN_LAT                                   504723 non-null float64\n",
      "BEGIN_LON                                   504723 non-null float64\n",
      "DAMAGE_PROPERTY                             504723 non-null float64\n",
      "STATE[T.ALASKA]                             504723 non-null float64\n",
      "STATE[T.AMERICAN SAMOA]                     504723 non-null float64\n",
      "STATE[T.ARIZONA]                            504723 non-null float64\n",
      "STATE[T.ARKANSAS]                           504723 non-null float64\n",
      "STATE[T.ATLANTIC NORTH]                     504723 non-null float64\n",
      "STATE[T.ATLANTIC SOUTH]                     504723 non-null float64\n",
      "STATE[T.CALIFORNIA]                         504723 non-null float64\n",
      "STATE[T.COLORADO]                           504723 non-null float64\n",
      "STATE[T.CONNECTICUT]                        504723 non-null float64\n",
      "STATE[T.DELAWARE]                           504723 non-null float64\n",
      "STATE[T.DISTRICT OF COLUMBIA]               504723 non-null float64\n",
      "STATE[T.E PACIFIC]                          504723 non-null float64\n",
      "STATE[T.FLORIDA]                            504723 non-null float64\n",
      "STATE[T.GEORGIA]                            504723 non-null float64\n",
      "STATE[T.GUAM]                               504723 non-null float64\n",
      "STATE[T.GULF OF ALASKA]                     504723 non-null float64\n",
      "STATE[T.GULF OF MEXICO]                     504723 non-null float64\n",
      "STATE[T.HAWAII]                             504723 non-null float64\n",
      "STATE[T.HAWAII WATERS]                      504723 non-null float64\n",
      "STATE[T.IDAHO]                              504723 non-null float64\n",
      "STATE[T.ILLINOIS]                           504723 non-null float64\n",
      "STATE[T.INDIANA]                            504723 non-null float64\n",
      "STATE[T.IOWA]                               504723 non-null float64\n",
      "STATE[T.KANSAS]                             504723 non-null float64\n",
      "STATE[T.KENTUCKY]                           504723 non-null float64\n",
      "STATE[T.LAKE ERIE]                          504723 non-null float64\n",
      "STATE[T.LAKE HURON]                         504723 non-null float64\n",
      "STATE[T.LAKE MICHIGAN]                      504723 non-null float64\n",
      "STATE[T.LAKE ONTARIO]                       504723 non-null float64\n",
      "STATE[T.LAKE ST CLAIR]                      504723 non-null float64\n",
      "STATE[T.LAKE SUPERIOR]                      504723 non-null float64\n",
      "STATE[T.LOUISIANA]                          504723 non-null float64\n",
      "STATE[T.MAINE]                              504723 non-null float64\n",
      "STATE[T.MARYLAND]                           504723 non-null float64\n",
      "STATE[T.MASSACHUSETTS]                      504723 non-null float64\n",
      "STATE[T.MICHIGAN]                           504723 non-null float64\n",
      "STATE[T.MINNESOTA]                          504723 non-null float64\n",
      "STATE[T.MISSISSIPPI]                        504723 non-null float64\n",
      "STATE[T.MISSOURI]                           504723 non-null float64\n",
      "STATE[T.MONTANA]                            504723 non-null float64\n",
      "STATE[T.NEBRASKA]                           504723 non-null float64\n",
      "STATE[T.NEVADA]                             504723 non-null float64\n",
      "STATE[T.NEW HAMPSHIRE]                      504723 non-null float64\n",
      "STATE[T.NEW JERSEY]                         504723 non-null float64\n",
      "STATE[T.NEW MEXICO]                         504723 non-null float64\n",
      "STATE[T.NEW YORK]                           504723 non-null float64\n",
      "STATE[T.NORTH CAROLINA]                     504723 non-null float64\n",
      "STATE[T.NORTH DAKOTA]                       504723 non-null float64\n",
      "STATE[T.OHIO]                               504723 non-null float64\n",
      "STATE[T.OKLAHOMA]                           504723 non-null float64\n",
      "STATE[T.OREGON]                             504723 non-null float64\n",
      "STATE[T.PENNSYLVANIA]                       504723 non-null float64\n",
      "STATE[T.PUERTO RICO]                        504723 non-null float64\n",
      "STATE[T.RHODE ISLAND]                       504723 non-null float64\n",
      "STATE[T.SOUTH CAROLINA]                     504723 non-null float64\n",
      "STATE[T.SOUTH DAKOTA]                       504723 non-null float64\n",
      "STATE[T.ST LAWRENCE R]                      504723 non-null float64\n",
      "STATE[T.TENNESSEE]                          504723 non-null float64\n",
      "STATE[T.TEXAS]                              504723 non-null float64\n",
      "STATE[T.UTAH]                               504723 non-null float64\n",
      "STATE[T.VERMONT]                            504723 non-null float64\n",
      "STATE[T.VIRGIN ISLANDS]                     504723 non-null float64\n",
      "STATE[T.VIRGINIA]                           504723 non-null float64\n",
      "STATE[T.WASHINGTON]                         504723 non-null float64\n",
      "STATE[T.WEST VIRGINIA]                      504723 non-null float64\n",
      "STATE[T.WISCONSIN]                          504723 non-null float64\n",
      "STATE[T.WYOMING]                            504723 non-null float64\n",
      "EVENT_TYPE[T.Hurricane]                     504723 non-null float64\n",
      "EVENT_TYPE[T.Marine High Wind]              504723 non-null float64\n",
      "EVENT_TYPE[T.Marine Hurricane/Typhoon]      504723 non-null float64\n",
      "EVENT_TYPE[T.Marine Strong Wind]            504723 non-null float64\n",
      "EVENT_TYPE[T.Marine Thunderstorm Wind]      504723 non-null float64\n",
      "EVENT_TYPE[T.Marine Tropical Depression]    504723 non-null float64\n",
      "EVENT_TYPE[T.Marine Tropical Storm]         504723 non-null float64\n",
      "EVENT_TYPE[T.Strong Wind]                   504723 non-null float64\n",
      "EVENT_TYPE[T.Thunderstorm Wind]             504723 non-null float64\n",
      "EVENT_TYPE[T.Tropical Depression]           504723 non-null float64\n",
      "EVENT_TYPE[T.Tropical Storm]                504723 non-null float64\n",
      "dtypes: float64(85), int64(2)\n",
      "memory usage: 338.9 MB\n"
     ]
    }
   ],
   "source": [
    "front = combined_df[['DAMAGE_SCORE', 'Year', 'Month']]\n",
    "combined_df = combined_df.drop(columns = ['DAMAGE_SCORE', 'Year', 'Month'])\n",
    "combined_df = combined_df.drop(columns = ['BEGIN_YEARMONTH', 'EVENT_ID'])\n",
    "combined_df = pd.concat([front, combined_df], axis = 1)\n",
    "combined_df = combined_df.drop(columns = ['INJURIES_DIRECT', 'INJURIES_INDIRECT', 'DEATHS_DIRECT', 'DEATHS_INDIRECT'])\n",
    "combined_df.info()"
   ]
  },
  {
   "cell_type": "code",
   "execution_count": 5,
   "metadata": {},
   "outputs": [],
   "source": [
    "# 9 million human life\n",
    "def categorical_labeling(damage):\n",
    "    if damage > 100000:\n",
    "        return 'Major'\n",
    "    elif damage > 1000:\n",
    "        return 'Minor'\n",
    "    else:\n",
    "        return 'Negligible'"
   ]
  },
  {
   "cell_type": "code",
   "execution_count": 6,
   "metadata": {},
   "outputs": [],
   "source": [
    "def binary_labeling(damage):\n",
    "    if damage > 100000:\n",
    "        return 1\n",
    "    else:\n",
    "        return 0"
   ]
  },
  {
   "cell_type": "code",
   "execution_count": 7,
   "metadata": {},
   "outputs": [],
   "source": [
    "# make labels\n",
    "category_list = []\n",
    "combined_df['Category'] = combined_df.DAMAGE_SCORE.apply(categorical_labeling)\n",
    "binary_list = []\n",
    "combined_df['Binary'] = combined_df.DAMAGE_SCORE.apply(binary_labeling)"
   ]
  },
  {
   "cell_type": "code",
   "execution_count": 8,
   "metadata": {},
   "outputs": [],
   "source": [
    "# set up data with stratified sampling\n",
    "X = combined_df.drop(columns = ['Category','Binary', 'DAMAGE_SCORE', 'DAMAGE_PROPERTY'])\n",
    "y = combined_df.Binary\n",
    "y_cat = combined_df.Category\n",
    "X_train, X_test, y_train, y_test = train_test_split(X, y, test_size=0.2, stratify = y)\n",
    "# X_cattrain, X_cattest, y_cattrain, y_cattest = train_test_split(X, y_cat, test_size=0.2, stratify = y_cat)"
   ]
  },
  {
   "cell_type": "code",
   "execution_count": 11,
   "metadata": {},
   "outputs": [],
   "source": [
    "# %%time\n",
    "# clf = SVC()\n",
    "# clf.fit(X_train, y_train)"
   ]
  },
  {
   "cell_type": "code",
   "execution_count": 12,
   "metadata": {},
   "outputs": [],
   "source": [
    "clf = SVC()"
   ]
  },
  {
   "cell_type": "code",
   "execution_count": 20,
   "metadata": {},
   "outputs": [],
   "source": [
    "c_range = list(np.logspace(-3, 1, 32))\n",
    "param_grid = dict(C = [1.0])\n",
    "# param_grid = dict(C=c_range,)"
   ]
  },
  {
   "cell_type": "code",
   "execution_count": 21,
   "metadata": {},
   "outputs": [],
   "source": [
    "from sklearn.metrics import fbeta_score, make_scorer, roc_curve, auc\n",
    "fbeta_scorer = make_scorer(fbeta_score, beta=1)\n",
    "grid = GridSearchCV(clf, param_grid, cv=5, scoring=fbeta_scorer, n_jobs=-1, verbose=True)"
   ]
  },
  {
   "cell_type": "code",
   "execution_count": null,
   "metadata": {},
   "outputs": [
    {
     "name": "stdout",
     "output_type": "stream",
     "text": [
      "Fitting 5 folds for each of 1 candidates, totalling 5 fits\n"
     ]
    },
    {
     "name": "stderr",
     "output_type": "stream",
     "text": [
      "[Parallel(n_jobs=-1)]: Using backend LokyBackend with 4 concurrent workers.\n"
     ]
    }
   ],
   "source": [
    "%%time\n",
    "grid.fit(X_train, y_train)"
   ]
  },
  {
   "cell_type": "code",
   "execution_count": null,
   "metadata": {},
   "outputs": [],
   "source": [
    "# takes too long to fit even one with 400k gave up"
   ]
  }
 ],
 "metadata": {
  "kernelspec": {
   "display_name": "Python 3",
   "language": "python",
   "name": "python3"
  },
  "language_info": {
   "codemirror_mode": {
    "name": "ipython",
    "version": 3
   },
   "file_extension": ".py",
   "mimetype": "text/x-python",
   "name": "python",
   "nbconvert_exporter": "python",
   "pygments_lexer": "ipython3",
   "version": "3.6.6"
  }
 },
 "nbformat": 4,
 "nbformat_minor": 2
}
